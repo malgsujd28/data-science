{
  "cells": [
    {
      "cell_type": "markdown",
      "metadata": {
        "id": "view-in-github",
        "colab_type": "text"
      },
      "source": [
        "<a href=\"https://colab.research.google.com/github/malgsujd28/data-science/blob/main/preprocessing_2.ipynb\" target=\"_parent\"><img src=\"https://colab.research.google.com/assets/colab-badge.svg\" alt=\"Open In Colab\"/></a>"
      ]
    },
    {
      "cell_type": "markdown",
      "source": [
        "# **Przedstawienie danych**"
      ],
      "metadata": {
        "id": "5Kla70pcO5d7"
      },
      "id": "5Kla70pcO5d7"
    },
    {
      "cell_type": "code",
      "source": [
        "import numpy as np\n",
        "import pandas as pd\n",
        "from matplotlib import pyplot as plt\n",
        "from sklearn import manifold, datasets\n",
        "from sklearn.cluster import AgglomerativeClustering\n",
        "from sklearn.datasets import make_blobs\n",
        "import seaborn as sns"
      ],
      "metadata": {
        "id": "fh_gMoYsKV3N"
      },
      "id": "fh_gMoYsKV3N",
      "execution_count": null,
      "outputs": []
    },
    {
      "cell_type": "code",
      "source": [
        "data = pd.read_excel('Bagietki.xlsx')"
      ],
      "metadata": {
        "id": "UI9RVxzFKqKl"
      },
      "id": "UI9RVxzFKqKl",
      "execution_count": null,
      "outputs": []
    },
    {
      "cell_type": "code",
      "source": [
        "data.head()"
      ],
      "metadata": {
        "colab": {
          "base_uri": "https://localhost:8080/",
          "height": 206
        },
        "id": "pko-7UwmLsfw",
        "outputId": "08fc7ed6-dcfd-4376-fef0-0048c08a37e4"
      },
      "id": "pko-7UwmLsfw",
      "execution_count": null,
      "outputs": [
        {
          "output_type": "execute_result",
          "data": {
            "text/plain": [
              "      Miejsce zakupu            Data zakupu    Ilość bagietek   \\\n",
              "0     Boulangerie du Coin      2024-05-02                  3.0   \n",
              "1     Le Pain Quotidien        2024-05-01                  2.0   \n",
              "2   La Boulangerie de Paris      2024-04-30                1.0   \n",
              "3     Paul                     2024-04-29                  3.0   \n",
              "4     Boulangerie de la Rue    2024-04-28                  4.0   \n",
              "\n",
              "    Ocena klienta (kategoria)    Średnica (cm)    Długość (cm)    Cena (EUR)   \\\n",
              "0   Doskonała                               5.0            30.0           2.5   \n",
              "1   Dobra                                   6.0            25.0           3.0   \n",
              "2   Doskonała                               4.5            28.0           2.2   \n",
              "3   Przeciętna                              6.5            32.0           2.8   \n",
              "4   Dobra                                   5.5            29.0           2.6   \n",
              "\n",
              "     Pora dnia    Pogoda       \n",
              "0   Rano          Słonecznie   \n",
              "1   Południe      Deszcz       \n",
              "2   Popołudnie    Pochmurno    \n",
              "3   Wieczór       Słonecznie   \n",
              "4   Rano          Pochmurno    "
            ],
            "text/html": [
              "\n",
              "  <div id=\"df-0d26109c-66b4-4e29-bc43-f5e23c23e214\" class=\"colab-df-container\">\n",
              "    <div>\n",
              "<style scoped>\n",
              "    .dataframe tbody tr th:only-of-type {\n",
              "        vertical-align: middle;\n",
              "    }\n",
              "\n",
              "    .dataframe tbody tr th {\n",
              "        vertical-align: top;\n",
              "    }\n",
              "\n",
              "    .dataframe thead th {\n",
              "        text-align: right;\n",
              "    }\n",
              "</style>\n",
              "<table border=\"1\" class=\"dataframe\">\n",
              "  <thead>\n",
              "    <tr style=\"text-align: right;\">\n",
              "      <th></th>\n",
              "      <th>Miejsce zakupu</th>\n",
              "      <th>Data zakupu</th>\n",
              "      <th>Ilość bagietek</th>\n",
              "      <th>Ocena klienta (kategoria)</th>\n",
              "      <th>Średnica (cm)</th>\n",
              "      <th>Długość (cm)</th>\n",
              "      <th>Cena (EUR)</th>\n",
              "      <th>Pora dnia</th>\n",
              "      <th>Pogoda</th>\n",
              "    </tr>\n",
              "  </thead>\n",
              "  <tbody>\n",
              "    <tr>\n",
              "      <th>0</th>\n",
              "      <td>Boulangerie du Coin</td>\n",
              "      <td>2024-05-02</td>\n",
              "      <td>3.0</td>\n",
              "      <td>Doskonała</td>\n",
              "      <td>5.0</td>\n",
              "      <td>30.0</td>\n",
              "      <td>2.5</td>\n",
              "      <td>Rano</td>\n",
              "      <td>Słonecznie</td>\n",
              "    </tr>\n",
              "    <tr>\n",
              "      <th>1</th>\n",
              "      <td>Le Pain Quotidien</td>\n",
              "      <td>2024-05-01</td>\n",
              "      <td>2.0</td>\n",
              "      <td>Dobra</td>\n",
              "      <td>6.0</td>\n",
              "      <td>25.0</td>\n",
              "      <td>3.0</td>\n",
              "      <td>Południe</td>\n",
              "      <td>Deszcz</td>\n",
              "    </tr>\n",
              "    <tr>\n",
              "      <th>2</th>\n",
              "      <td>La Boulangerie de Paris</td>\n",
              "      <td>2024-04-30</td>\n",
              "      <td>1.0</td>\n",
              "      <td>Doskonała</td>\n",
              "      <td>4.5</td>\n",
              "      <td>28.0</td>\n",
              "      <td>2.2</td>\n",
              "      <td>Popołudnie</td>\n",
              "      <td>Pochmurno</td>\n",
              "    </tr>\n",
              "    <tr>\n",
              "      <th>3</th>\n",
              "      <td>Paul</td>\n",
              "      <td>2024-04-29</td>\n",
              "      <td>3.0</td>\n",
              "      <td>Przeciętna</td>\n",
              "      <td>6.5</td>\n",
              "      <td>32.0</td>\n",
              "      <td>2.8</td>\n",
              "      <td>Wieczór</td>\n",
              "      <td>Słonecznie</td>\n",
              "    </tr>\n",
              "    <tr>\n",
              "      <th>4</th>\n",
              "      <td>Boulangerie de la Rue</td>\n",
              "      <td>2024-04-28</td>\n",
              "      <td>4.0</td>\n",
              "      <td>Dobra</td>\n",
              "      <td>5.5</td>\n",
              "      <td>29.0</td>\n",
              "      <td>2.6</td>\n",
              "      <td>Rano</td>\n",
              "      <td>Pochmurno</td>\n",
              "    </tr>\n",
              "  </tbody>\n",
              "</table>\n",
              "</div>\n",
              "    <div class=\"colab-df-buttons\">\n",
              "\n",
              "  <div class=\"colab-df-container\">\n",
              "    <button class=\"colab-df-convert\" onclick=\"convertToInteractive('df-0d26109c-66b4-4e29-bc43-f5e23c23e214')\"\n",
              "            title=\"Convert this dataframe to an interactive table.\"\n",
              "            style=\"display:none;\">\n",
              "\n",
              "  <svg xmlns=\"http://www.w3.org/2000/svg\" height=\"24px\" viewBox=\"0 -960 960 960\">\n",
              "    <path d=\"M120-120v-720h720v720H120Zm60-500h600v-160H180v160Zm220 220h160v-160H400v160Zm0 220h160v-160H400v160ZM180-400h160v-160H180v160Zm440 0h160v-160H620v160ZM180-180h160v-160H180v160Zm440 0h160v-160H620v160Z\"/>\n",
              "  </svg>\n",
              "    </button>\n",
              "\n",
              "  <style>\n",
              "    .colab-df-container {\n",
              "      display:flex;\n",
              "      gap: 12px;\n",
              "    }\n",
              "\n",
              "    .colab-df-convert {\n",
              "      background-color: #E8F0FE;\n",
              "      border: none;\n",
              "      border-radius: 50%;\n",
              "      cursor: pointer;\n",
              "      display: none;\n",
              "      fill: #1967D2;\n",
              "      height: 32px;\n",
              "      padding: 0 0 0 0;\n",
              "      width: 32px;\n",
              "    }\n",
              "\n",
              "    .colab-df-convert:hover {\n",
              "      background-color: #E2EBFA;\n",
              "      box-shadow: 0px 1px 2px rgba(60, 64, 67, 0.3), 0px 1px 3px 1px rgba(60, 64, 67, 0.15);\n",
              "      fill: #174EA6;\n",
              "    }\n",
              "\n",
              "    .colab-df-buttons div {\n",
              "      margin-bottom: 4px;\n",
              "    }\n",
              "\n",
              "    [theme=dark] .colab-df-convert {\n",
              "      background-color: #3B4455;\n",
              "      fill: #D2E3FC;\n",
              "    }\n",
              "\n",
              "    [theme=dark] .colab-df-convert:hover {\n",
              "      background-color: #434B5C;\n",
              "      box-shadow: 0px 1px 3px 1px rgba(0, 0, 0, 0.15);\n",
              "      filter: drop-shadow(0px 1px 2px rgba(0, 0, 0, 0.3));\n",
              "      fill: #FFFFFF;\n",
              "    }\n",
              "  </style>\n",
              "\n",
              "    <script>\n",
              "      const buttonEl =\n",
              "        document.querySelector('#df-0d26109c-66b4-4e29-bc43-f5e23c23e214 button.colab-df-convert');\n",
              "      buttonEl.style.display =\n",
              "        google.colab.kernel.accessAllowed ? 'block' : 'none';\n",
              "\n",
              "      async function convertToInteractive(key) {\n",
              "        const element = document.querySelector('#df-0d26109c-66b4-4e29-bc43-f5e23c23e214');\n",
              "        const dataTable =\n",
              "          await google.colab.kernel.invokeFunction('convertToInteractive',\n",
              "                                                    [key], {});\n",
              "        if (!dataTable) return;\n",
              "\n",
              "        const docLinkHtml = 'Like what you see? Visit the ' +\n",
              "          '<a target=\"_blank\" href=https://colab.research.google.com/notebooks/data_table.ipynb>data table notebook</a>'\n",
              "          + ' to learn more about interactive tables.';\n",
              "        element.innerHTML = '';\n",
              "        dataTable['output_type'] = 'display_data';\n",
              "        await google.colab.output.renderOutput(dataTable, element);\n",
              "        const docLink = document.createElement('div');\n",
              "        docLink.innerHTML = docLinkHtml;\n",
              "        element.appendChild(docLink);\n",
              "      }\n",
              "    </script>\n",
              "  </div>\n",
              "\n",
              "\n",
              "<div id=\"df-76ebf755-5a02-4c05-ba9e-bd99844a96ba\">\n",
              "  <button class=\"colab-df-quickchart\" onclick=\"quickchart('df-76ebf755-5a02-4c05-ba9e-bd99844a96ba')\"\n",
              "            title=\"Suggest charts\"\n",
              "            style=\"display:none;\">\n",
              "\n",
              "<svg xmlns=\"http://www.w3.org/2000/svg\" height=\"24px\"viewBox=\"0 0 24 24\"\n",
              "     width=\"24px\">\n",
              "    <g>\n",
              "        <path d=\"M19 3H5c-1.1 0-2 .9-2 2v14c0 1.1.9 2 2 2h14c1.1 0 2-.9 2-2V5c0-1.1-.9-2-2-2zM9 17H7v-7h2v7zm4 0h-2V7h2v10zm4 0h-2v-4h2v4z\"/>\n",
              "    </g>\n",
              "</svg>\n",
              "  </button>\n",
              "\n",
              "<style>\n",
              "  .colab-df-quickchart {\n",
              "      --bg-color: #E8F0FE;\n",
              "      --fill-color: #1967D2;\n",
              "      --hover-bg-color: #E2EBFA;\n",
              "      --hover-fill-color: #174EA6;\n",
              "      --disabled-fill-color: #AAA;\n",
              "      --disabled-bg-color: #DDD;\n",
              "  }\n",
              "\n",
              "  [theme=dark] .colab-df-quickchart {\n",
              "      --bg-color: #3B4455;\n",
              "      --fill-color: #D2E3FC;\n",
              "      --hover-bg-color: #434B5C;\n",
              "      --hover-fill-color: #FFFFFF;\n",
              "      --disabled-bg-color: #3B4455;\n",
              "      --disabled-fill-color: #666;\n",
              "  }\n",
              "\n",
              "  .colab-df-quickchart {\n",
              "    background-color: var(--bg-color);\n",
              "    border: none;\n",
              "    border-radius: 50%;\n",
              "    cursor: pointer;\n",
              "    display: none;\n",
              "    fill: var(--fill-color);\n",
              "    height: 32px;\n",
              "    padding: 0;\n",
              "    width: 32px;\n",
              "  }\n",
              "\n",
              "  .colab-df-quickchart:hover {\n",
              "    background-color: var(--hover-bg-color);\n",
              "    box-shadow: 0 1px 2px rgba(60, 64, 67, 0.3), 0 1px 3px 1px rgba(60, 64, 67, 0.15);\n",
              "    fill: var(--button-hover-fill-color);\n",
              "  }\n",
              "\n",
              "  .colab-df-quickchart-complete:disabled,\n",
              "  .colab-df-quickchart-complete:disabled:hover {\n",
              "    background-color: var(--disabled-bg-color);\n",
              "    fill: var(--disabled-fill-color);\n",
              "    box-shadow: none;\n",
              "  }\n",
              "\n",
              "  .colab-df-spinner {\n",
              "    border: 2px solid var(--fill-color);\n",
              "    border-color: transparent;\n",
              "    border-bottom-color: var(--fill-color);\n",
              "    animation:\n",
              "      spin 1s steps(1) infinite;\n",
              "  }\n",
              "\n",
              "  @keyframes spin {\n",
              "    0% {\n",
              "      border-color: transparent;\n",
              "      border-bottom-color: var(--fill-color);\n",
              "      border-left-color: var(--fill-color);\n",
              "    }\n",
              "    20% {\n",
              "      border-color: transparent;\n",
              "      border-left-color: var(--fill-color);\n",
              "      border-top-color: var(--fill-color);\n",
              "    }\n",
              "    30% {\n",
              "      border-color: transparent;\n",
              "      border-left-color: var(--fill-color);\n",
              "      border-top-color: var(--fill-color);\n",
              "      border-right-color: var(--fill-color);\n",
              "    }\n",
              "    40% {\n",
              "      border-color: transparent;\n",
              "      border-right-color: var(--fill-color);\n",
              "      border-top-color: var(--fill-color);\n",
              "    }\n",
              "    60% {\n",
              "      border-color: transparent;\n",
              "      border-right-color: var(--fill-color);\n",
              "    }\n",
              "    80% {\n",
              "      border-color: transparent;\n",
              "      border-right-color: var(--fill-color);\n",
              "      border-bottom-color: var(--fill-color);\n",
              "    }\n",
              "    90% {\n",
              "      border-color: transparent;\n",
              "      border-bottom-color: var(--fill-color);\n",
              "    }\n",
              "  }\n",
              "</style>\n",
              "\n",
              "  <script>\n",
              "    async function quickchart(key) {\n",
              "      const quickchartButtonEl =\n",
              "        document.querySelector('#' + key + ' button');\n",
              "      quickchartButtonEl.disabled = true;  // To prevent multiple clicks.\n",
              "      quickchartButtonEl.classList.add('colab-df-spinner');\n",
              "      try {\n",
              "        const charts = await google.colab.kernel.invokeFunction(\n",
              "            'suggestCharts', [key], {});\n",
              "      } catch (error) {\n",
              "        console.error('Error during call to suggestCharts:', error);\n",
              "      }\n",
              "      quickchartButtonEl.classList.remove('colab-df-spinner');\n",
              "      quickchartButtonEl.classList.add('colab-df-quickchart-complete');\n",
              "    }\n",
              "    (() => {\n",
              "      let quickchartButtonEl =\n",
              "        document.querySelector('#df-76ebf755-5a02-4c05-ba9e-bd99844a96ba button');\n",
              "      quickchartButtonEl.style.display =\n",
              "        google.colab.kernel.accessAllowed ? 'block' : 'none';\n",
              "    })();\n",
              "  </script>\n",
              "</div>\n",
              "    </div>\n",
              "  </div>\n"
            ],
            "application/vnd.google.colaboratory.intrinsic+json": {
              "type": "dataframe",
              "variable_name": "data",
              "summary": "{\n  \"name\": \"data\",\n  \"rows\": 76,\n  \"fields\": [\n    {\n      \"column\": \" Miejsce zakupu        \",\n      \"properties\": {\n        \"dtype\": \"category\",\n        \"num_unique_values\": 10,\n        \"samples\": [\n          \" Le Fournil de Pierre  \",\n          \" Le Pain Quotidien     \",\n          \" Maison Kayser         \"\n        ],\n        \"semantic_type\": \"\",\n        \"description\": \"\"\n      }\n    },\n    {\n      \"column\": \" Data zakupu \",\n      \"properties\": {\n        \"dtype\": \"object\",\n        \"num_unique_values\": 10,\n        \"samples\": [\n          \" 2024-04-24   \",\n          \" 2024-05-01   \",\n          \" 2024-04-27   \"\n        ],\n        \"semantic_type\": \"\",\n        \"description\": \"\"\n      }\n    },\n    {\n      \"column\": \" Ilo\\u015b\\u0107 bagietek \",\n      \"properties\": {\n        \"dtype\": \"number\",\n        \"std\": 1.026456552228614,\n        \"min\": 1.0,\n        \"max\": 4.0,\n        \"num_unique_values\": 4,\n        \"samples\": [\n          2.0,\n          4.0,\n          3.0\n        ],\n        \"semantic_type\": \"\",\n        \"description\": \"\"\n      }\n    },\n    {\n      \"column\": \" Ocena klienta (kategoria) \",\n      \"properties\": {\n        \"dtype\": \"category\",\n        \"num_unique_values\": 3,\n        \"samples\": [\n          \" Doskona\\u0142a                 \",\n          \" Dobra                     \",\n          \" Przeci\\u0119tna                \"\n        ],\n        \"semantic_type\": \"\",\n        \"description\": \"\"\n      }\n    },\n    {\n      \"column\": \" \\u015arednica (cm) \",\n      \"properties\": {\n        \"dtype\": \"number\",\n        \"std\": 0.7116819711571843,\n        \"min\": 4.5,\n        \"max\": 6.5,\n        \"num_unique_values\": 5,\n        \"samples\": [\n          6.0,\n          5.5,\n          4.5\n        ],\n        \"semantic_type\": \"\",\n        \"description\": \"\"\n      }\n    },\n    {\n      \"column\": \" D\\u0142ugo\\u015b\\u0107 (cm) \",\n      \"properties\": {\n        \"dtype\": \"number\",\n        \"std\": 2.142008113374918,\n        \"min\": 25.0,\n        \"max\": 32.0,\n        \"num_unique_values\": 8,\n        \"samples\": [\n          25.0,\n          27.0,\n          30.0\n        ],\n        \"semantic_type\": \"\",\n        \"description\": \"\"\n      }\n    },\n    {\n      \"column\": \" Cena (EUR) \",\n      \"properties\": {\n        \"dtype\": \"number\",\n        \"std\": 0.286402366941116,\n        \"min\": 2.2,\n        \"max\": 3.2,\n        \"num_unique_values\": 9,\n        \"samples\": [\n          2.9,\n          3.0,\n          3.2\n        ],\n        \"semantic_type\": \"\",\n        \"description\": \"\"\n      }\n    },\n    {\n      \"column\": \" Pora dnia \",\n      \"properties\": {\n        \"dtype\": \"category\",\n        \"num_unique_values\": 4,\n        \"samples\": [\n          \" Po\\u0142udnie   \",\n          \" Wiecz\\u00f3r    \",\n          \" Rano       \"\n        ],\n        \"semantic_type\": \"\",\n        \"description\": \"\"\n      }\n    },\n    {\n      \"column\": \" Pogoda     \",\n      \"properties\": {\n        \"dtype\": \"category\",\n        \"num_unique_values\": 3,\n        \"samples\": [\n          \" S\\u0142onecznie \",\n          \" Deszcz     \",\n          \" Pochmurno  \"\n        ],\n        \"semantic_type\": \"\",\n        \"description\": \"\"\n      }\n    }\n  ]\n}"
            }
          },
          "metadata": {},
          "execution_count": 27
        }
      ]
    },
    {
      "cell_type": "code",
      "source": [
        "data.info()"
      ],
      "metadata": {
        "colab": {
          "base_uri": "https://localhost:8080/"
        },
        "id": "ncVkD6VzLvJn",
        "outputId": "d751aaaf-9a22-4bf1-b4f0-1d0ecc42184b"
      },
      "id": "ncVkD6VzLvJn",
      "execution_count": null,
      "outputs": [
        {
          "output_type": "stream",
          "name": "stdout",
          "text": [
            "<class 'pandas.core.frame.DataFrame'>\n",
            "RangeIndex: 76 entries, 0 to 75\n",
            "Data columns (total 9 columns):\n",
            " #   Column                       Non-Null Count  Dtype  \n",
            "---  ------                       --------------  -----  \n",
            " 0    Miejsce zakupu              76 non-null     object \n",
            " 1    Data zakupu                 76 non-null     object \n",
            " 2    Ilość bagietek              66 non-null     float64\n",
            " 3    Ocena klienta (kategoria)   76 non-null     object \n",
            " 4    Średnica (cm)               76 non-null     float64\n",
            " 5    Długość (cm)                70 non-null     float64\n",
            " 6    Cena (EUR)                  76 non-null     float64\n",
            " 7    Pora dnia                   76 non-null     object \n",
            " 8    Pogoda                      76 non-null     object \n",
            "dtypes: float64(4), object(5)\n",
            "memory usage: 5.5+ KB\n"
          ]
        }
      ]
    },
    {
      "cell_type": "code",
      "source": [
        "data[' Ocena klienta (kategoria) '].value_counts()"
      ],
      "metadata": {
        "colab": {
          "base_uri": "https://localhost:8080/"
        },
        "id": "Jnoc61YAMx1a",
        "outputId": "5a65e7f2-2e1a-49e4-bafb-0c66734faeae"
      },
      "id": "Jnoc61YAMx1a",
      "execution_count": null,
      "outputs": [
        {
          "output_type": "execute_result",
          "data": {
            "text/plain": [
              " Ocena klienta (kategoria) \n",
              " Przeciętna                    30\n",
              " Doskonała                     24\n",
              " Dobra                         22\n",
              "Name: count, dtype: int64"
            ]
          },
          "metadata": {},
          "execution_count": 29
        }
      ]
    },
    {
      "cell_type": "markdown",
      "source": [
        "Oddzielamy zmienną zależną."
      ],
      "metadata": {
        "id": "uOFU9hWtP_ll"
      },
      "id": "uOFU9hWtP_ll"
    },
    {
      "cell_type": "code",
      "source": [
        "y=data[' Ocena klienta (kategoria) ']"
      ],
      "metadata": {
        "id": "g_JExdaIIDv0"
      },
      "id": "g_JExdaIIDv0",
      "execution_count": null,
      "outputs": []
    },
    {
      "cell_type": "markdown",
      "source": [
        "Zmieniamy nazw kolumn, aby usunąć niepotrzebne spacje."
      ],
      "metadata": {
        "id": "3sLBk5cyPtve"
      },
      "id": "3sLBk5cyPtve"
    },
    {
      "cell_type": "code",
      "source": [
        "data = data.rename(columns={' Miejsce zakupu ': 'Miejsce zakupu'})\n",
        "data = data.rename(columns={' Data zakupu ': 'Data zakupu'})\n",
        "data = data.rename(columns={' Ilość bagietek ': 'Ilość bagietek'})\n",
        "data = data.rename(columns={' Ocena klienta (kategoria) ': 'Ocena klienta (kategoria)'})\n",
        "data = data.rename(columns={' Średnica (cm) ': 'Średnica (cm)'})\n",
        "data = data.rename(columns={' Długość (cm) ': 'Długość (cm)'})\n",
        "data = data.rename(columns={' Cena (EUR) ': 'Cena (EUR)'})\n",
        "data = data.rename(columns={' Pora dnia ': 'Pora dnia'})\n",
        "data = data.rename(columns={' Pogoda ': 'Pogoda'})\n",
        "data.head()"
      ],
      "metadata": {
        "id": "5SJoH3W9EhF_",
        "colab": {
          "base_uri": "https://localhost:8080/",
          "height": 206
        },
        "outputId": "b3cbd789-981e-4394-cf7d-cbbf6c587247"
      },
      "id": "5SJoH3W9EhF_",
      "execution_count": null,
      "outputs": [
        {
          "output_type": "execute_result",
          "data": {
            "text/plain": [
              "      Miejsce zakupu             Data zakupu  Ilość bagietek  \\\n",
              "0     Boulangerie du Coin      2024-05-02                3.0   \n",
              "1     Le Pain Quotidien        2024-05-01                2.0   \n",
              "2   La Boulangerie de Paris      2024-04-30              1.0   \n",
              "3     Paul                     2024-04-29                3.0   \n",
              "4     Boulangerie de la Rue    2024-04-28                4.0   \n",
              "\n",
              "     Ocena klienta (kategoria)  Średnica (cm)  Długość (cm)  Cena (EUR)  \\\n",
              "0   Doskonała                             5.0          30.0         2.5   \n",
              "1   Dobra                                 6.0          25.0         3.0   \n",
              "2   Doskonała                             4.5          28.0         2.2   \n",
              "3   Przeciętna                            6.5          32.0         2.8   \n",
              "4   Dobra                                 5.5          29.0         2.6   \n",
              "\n",
              "      Pora dnia   Pogoda       \n",
              "0   Rano          Słonecznie   \n",
              "1   Południe      Deszcz       \n",
              "2   Popołudnie    Pochmurno    \n",
              "3   Wieczór       Słonecznie   \n",
              "4   Rano          Pochmurno    "
            ],
            "text/html": [
              "\n",
              "  <div id=\"df-d6df7d2f-cf58-4709-97c3-f833f610c8a2\" class=\"colab-df-container\">\n",
              "    <div>\n",
              "<style scoped>\n",
              "    .dataframe tbody tr th:only-of-type {\n",
              "        vertical-align: middle;\n",
              "    }\n",
              "\n",
              "    .dataframe tbody tr th {\n",
              "        vertical-align: top;\n",
              "    }\n",
              "\n",
              "    .dataframe thead th {\n",
              "        text-align: right;\n",
              "    }\n",
              "</style>\n",
              "<table border=\"1\" class=\"dataframe\">\n",
              "  <thead>\n",
              "    <tr style=\"text-align: right;\">\n",
              "      <th></th>\n",
              "      <th>Miejsce zakupu</th>\n",
              "      <th>Data zakupu</th>\n",
              "      <th>Ilość bagietek</th>\n",
              "      <th>Ocena klienta (kategoria)</th>\n",
              "      <th>Średnica (cm)</th>\n",
              "      <th>Długość (cm)</th>\n",
              "      <th>Cena (EUR)</th>\n",
              "      <th>Pora dnia</th>\n",
              "      <th>Pogoda</th>\n",
              "    </tr>\n",
              "  </thead>\n",
              "  <tbody>\n",
              "    <tr>\n",
              "      <th>0</th>\n",
              "      <td>Boulangerie du Coin</td>\n",
              "      <td>2024-05-02</td>\n",
              "      <td>3.0</td>\n",
              "      <td>Doskonała</td>\n",
              "      <td>5.0</td>\n",
              "      <td>30.0</td>\n",
              "      <td>2.5</td>\n",
              "      <td>Rano</td>\n",
              "      <td>Słonecznie</td>\n",
              "    </tr>\n",
              "    <tr>\n",
              "      <th>1</th>\n",
              "      <td>Le Pain Quotidien</td>\n",
              "      <td>2024-05-01</td>\n",
              "      <td>2.0</td>\n",
              "      <td>Dobra</td>\n",
              "      <td>6.0</td>\n",
              "      <td>25.0</td>\n",
              "      <td>3.0</td>\n",
              "      <td>Południe</td>\n",
              "      <td>Deszcz</td>\n",
              "    </tr>\n",
              "    <tr>\n",
              "      <th>2</th>\n",
              "      <td>La Boulangerie de Paris</td>\n",
              "      <td>2024-04-30</td>\n",
              "      <td>1.0</td>\n",
              "      <td>Doskonała</td>\n",
              "      <td>4.5</td>\n",
              "      <td>28.0</td>\n",
              "      <td>2.2</td>\n",
              "      <td>Popołudnie</td>\n",
              "      <td>Pochmurno</td>\n",
              "    </tr>\n",
              "    <tr>\n",
              "      <th>3</th>\n",
              "      <td>Paul</td>\n",
              "      <td>2024-04-29</td>\n",
              "      <td>3.0</td>\n",
              "      <td>Przeciętna</td>\n",
              "      <td>6.5</td>\n",
              "      <td>32.0</td>\n",
              "      <td>2.8</td>\n",
              "      <td>Wieczór</td>\n",
              "      <td>Słonecznie</td>\n",
              "    </tr>\n",
              "    <tr>\n",
              "      <th>4</th>\n",
              "      <td>Boulangerie de la Rue</td>\n",
              "      <td>2024-04-28</td>\n",
              "      <td>4.0</td>\n",
              "      <td>Dobra</td>\n",
              "      <td>5.5</td>\n",
              "      <td>29.0</td>\n",
              "      <td>2.6</td>\n",
              "      <td>Rano</td>\n",
              "      <td>Pochmurno</td>\n",
              "    </tr>\n",
              "  </tbody>\n",
              "</table>\n",
              "</div>\n",
              "    <div class=\"colab-df-buttons\">\n",
              "\n",
              "  <div class=\"colab-df-container\">\n",
              "    <button class=\"colab-df-convert\" onclick=\"convertToInteractive('df-d6df7d2f-cf58-4709-97c3-f833f610c8a2')\"\n",
              "            title=\"Convert this dataframe to an interactive table.\"\n",
              "            style=\"display:none;\">\n",
              "\n",
              "  <svg xmlns=\"http://www.w3.org/2000/svg\" height=\"24px\" viewBox=\"0 -960 960 960\">\n",
              "    <path d=\"M120-120v-720h720v720H120Zm60-500h600v-160H180v160Zm220 220h160v-160H400v160Zm0 220h160v-160H400v160ZM180-400h160v-160H180v160Zm440 0h160v-160H620v160ZM180-180h160v-160H180v160Zm440 0h160v-160H620v160Z\"/>\n",
              "  </svg>\n",
              "    </button>\n",
              "\n",
              "  <style>\n",
              "    .colab-df-container {\n",
              "      display:flex;\n",
              "      gap: 12px;\n",
              "    }\n",
              "\n",
              "    .colab-df-convert {\n",
              "      background-color: #E8F0FE;\n",
              "      border: none;\n",
              "      border-radius: 50%;\n",
              "      cursor: pointer;\n",
              "      display: none;\n",
              "      fill: #1967D2;\n",
              "      height: 32px;\n",
              "      padding: 0 0 0 0;\n",
              "      width: 32px;\n",
              "    }\n",
              "\n",
              "    .colab-df-convert:hover {\n",
              "      background-color: #E2EBFA;\n",
              "      box-shadow: 0px 1px 2px rgba(60, 64, 67, 0.3), 0px 1px 3px 1px rgba(60, 64, 67, 0.15);\n",
              "      fill: #174EA6;\n",
              "    }\n",
              "\n",
              "    .colab-df-buttons div {\n",
              "      margin-bottom: 4px;\n",
              "    }\n",
              "\n",
              "    [theme=dark] .colab-df-convert {\n",
              "      background-color: #3B4455;\n",
              "      fill: #D2E3FC;\n",
              "    }\n",
              "\n",
              "    [theme=dark] .colab-df-convert:hover {\n",
              "      background-color: #434B5C;\n",
              "      box-shadow: 0px 1px 3px 1px rgba(0, 0, 0, 0.15);\n",
              "      filter: drop-shadow(0px 1px 2px rgba(0, 0, 0, 0.3));\n",
              "      fill: #FFFFFF;\n",
              "    }\n",
              "  </style>\n",
              "\n",
              "    <script>\n",
              "      const buttonEl =\n",
              "        document.querySelector('#df-d6df7d2f-cf58-4709-97c3-f833f610c8a2 button.colab-df-convert');\n",
              "      buttonEl.style.display =\n",
              "        google.colab.kernel.accessAllowed ? 'block' : 'none';\n",
              "\n",
              "      async function convertToInteractive(key) {\n",
              "        const element = document.querySelector('#df-d6df7d2f-cf58-4709-97c3-f833f610c8a2');\n",
              "        const dataTable =\n",
              "          await google.colab.kernel.invokeFunction('convertToInteractive',\n",
              "                                                    [key], {});\n",
              "        if (!dataTable) return;\n",
              "\n",
              "        const docLinkHtml = 'Like what you see? Visit the ' +\n",
              "          '<a target=\"_blank\" href=https://colab.research.google.com/notebooks/data_table.ipynb>data table notebook</a>'\n",
              "          + ' to learn more about interactive tables.';\n",
              "        element.innerHTML = '';\n",
              "        dataTable['output_type'] = 'display_data';\n",
              "        await google.colab.output.renderOutput(dataTable, element);\n",
              "        const docLink = document.createElement('div');\n",
              "        docLink.innerHTML = docLinkHtml;\n",
              "        element.appendChild(docLink);\n",
              "      }\n",
              "    </script>\n",
              "  </div>\n",
              "\n",
              "\n",
              "<div id=\"df-09cf6761-1836-46b5-9422-55c4b5c5f4cd\">\n",
              "  <button class=\"colab-df-quickchart\" onclick=\"quickchart('df-09cf6761-1836-46b5-9422-55c4b5c5f4cd')\"\n",
              "            title=\"Suggest charts\"\n",
              "            style=\"display:none;\">\n",
              "\n",
              "<svg xmlns=\"http://www.w3.org/2000/svg\" height=\"24px\"viewBox=\"0 0 24 24\"\n",
              "     width=\"24px\">\n",
              "    <g>\n",
              "        <path d=\"M19 3H5c-1.1 0-2 .9-2 2v14c0 1.1.9 2 2 2h14c1.1 0 2-.9 2-2V5c0-1.1-.9-2-2-2zM9 17H7v-7h2v7zm4 0h-2V7h2v10zm4 0h-2v-4h2v4z\"/>\n",
              "    </g>\n",
              "</svg>\n",
              "  </button>\n",
              "\n",
              "<style>\n",
              "  .colab-df-quickchart {\n",
              "      --bg-color: #E8F0FE;\n",
              "      --fill-color: #1967D2;\n",
              "      --hover-bg-color: #E2EBFA;\n",
              "      --hover-fill-color: #174EA6;\n",
              "      --disabled-fill-color: #AAA;\n",
              "      --disabled-bg-color: #DDD;\n",
              "  }\n",
              "\n",
              "  [theme=dark] .colab-df-quickchart {\n",
              "      --bg-color: #3B4455;\n",
              "      --fill-color: #D2E3FC;\n",
              "      --hover-bg-color: #434B5C;\n",
              "      --hover-fill-color: #FFFFFF;\n",
              "      --disabled-bg-color: #3B4455;\n",
              "      --disabled-fill-color: #666;\n",
              "  }\n",
              "\n",
              "  .colab-df-quickchart {\n",
              "    background-color: var(--bg-color);\n",
              "    border: none;\n",
              "    border-radius: 50%;\n",
              "    cursor: pointer;\n",
              "    display: none;\n",
              "    fill: var(--fill-color);\n",
              "    height: 32px;\n",
              "    padding: 0;\n",
              "    width: 32px;\n",
              "  }\n",
              "\n",
              "  .colab-df-quickchart:hover {\n",
              "    background-color: var(--hover-bg-color);\n",
              "    box-shadow: 0 1px 2px rgba(60, 64, 67, 0.3), 0 1px 3px 1px rgba(60, 64, 67, 0.15);\n",
              "    fill: var(--button-hover-fill-color);\n",
              "  }\n",
              "\n",
              "  .colab-df-quickchart-complete:disabled,\n",
              "  .colab-df-quickchart-complete:disabled:hover {\n",
              "    background-color: var(--disabled-bg-color);\n",
              "    fill: var(--disabled-fill-color);\n",
              "    box-shadow: none;\n",
              "  }\n",
              "\n",
              "  .colab-df-spinner {\n",
              "    border: 2px solid var(--fill-color);\n",
              "    border-color: transparent;\n",
              "    border-bottom-color: var(--fill-color);\n",
              "    animation:\n",
              "      spin 1s steps(1) infinite;\n",
              "  }\n",
              "\n",
              "  @keyframes spin {\n",
              "    0% {\n",
              "      border-color: transparent;\n",
              "      border-bottom-color: var(--fill-color);\n",
              "      border-left-color: var(--fill-color);\n",
              "    }\n",
              "    20% {\n",
              "      border-color: transparent;\n",
              "      border-left-color: var(--fill-color);\n",
              "      border-top-color: var(--fill-color);\n",
              "    }\n",
              "    30% {\n",
              "      border-color: transparent;\n",
              "      border-left-color: var(--fill-color);\n",
              "      border-top-color: var(--fill-color);\n",
              "      border-right-color: var(--fill-color);\n",
              "    }\n",
              "    40% {\n",
              "      border-color: transparent;\n",
              "      border-right-color: var(--fill-color);\n",
              "      border-top-color: var(--fill-color);\n",
              "    }\n",
              "    60% {\n",
              "      border-color: transparent;\n",
              "      border-right-color: var(--fill-color);\n",
              "    }\n",
              "    80% {\n",
              "      border-color: transparent;\n",
              "      border-right-color: var(--fill-color);\n",
              "      border-bottom-color: var(--fill-color);\n",
              "    }\n",
              "    90% {\n",
              "      border-color: transparent;\n",
              "      border-bottom-color: var(--fill-color);\n",
              "    }\n",
              "  }\n",
              "</style>\n",
              "\n",
              "  <script>\n",
              "    async function quickchart(key) {\n",
              "      const quickchartButtonEl =\n",
              "        document.querySelector('#' + key + ' button');\n",
              "      quickchartButtonEl.disabled = true;  // To prevent multiple clicks.\n",
              "      quickchartButtonEl.classList.add('colab-df-spinner');\n",
              "      try {\n",
              "        const charts = await google.colab.kernel.invokeFunction(\n",
              "            'suggestCharts', [key], {});\n",
              "      } catch (error) {\n",
              "        console.error('Error during call to suggestCharts:', error);\n",
              "      }\n",
              "      quickchartButtonEl.classList.remove('colab-df-spinner');\n",
              "      quickchartButtonEl.classList.add('colab-df-quickchart-complete');\n",
              "    }\n",
              "    (() => {\n",
              "      let quickchartButtonEl =\n",
              "        document.querySelector('#df-09cf6761-1836-46b5-9422-55c4b5c5f4cd button');\n",
              "      quickchartButtonEl.style.display =\n",
              "        google.colab.kernel.accessAllowed ? 'block' : 'none';\n",
              "    })();\n",
              "  </script>\n",
              "</div>\n",
              "    </div>\n",
              "  </div>\n"
            ],
            "application/vnd.google.colaboratory.intrinsic+json": {
              "type": "dataframe",
              "variable_name": "data",
              "summary": "{\n  \"name\": \"data\",\n  \"rows\": 76,\n  \"fields\": [\n    {\n      \"column\": \" Miejsce zakupu        \",\n      \"properties\": {\n        \"dtype\": \"category\",\n        \"num_unique_values\": 10,\n        \"samples\": [\n          \" Le Fournil de Pierre  \",\n          \" Le Pain Quotidien     \",\n          \" Maison Kayser         \"\n        ],\n        \"semantic_type\": \"\",\n        \"description\": \"\"\n      }\n    },\n    {\n      \"column\": \"Data zakupu\",\n      \"properties\": {\n        \"dtype\": \"object\",\n        \"num_unique_values\": 10,\n        \"samples\": [\n          \" 2024-04-24   \",\n          \" 2024-05-01   \",\n          \" 2024-04-27   \"\n        ],\n        \"semantic_type\": \"\",\n        \"description\": \"\"\n      }\n    },\n    {\n      \"column\": \"Ilo\\u015b\\u0107 bagietek\",\n      \"properties\": {\n        \"dtype\": \"number\",\n        \"std\": 1.026456552228614,\n        \"min\": 1.0,\n        \"max\": 4.0,\n        \"num_unique_values\": 4,\n        \"samples\": [\n          2.0,\n          4.0,\n          3.0\n        ],\n        \"semantic_type\": \"\",\n        \"description\": \"\"\n      }\n    },\n    {\n      \"column\": \"Ocena klienta (kategoria)\",\n      \"properties\": {\n        \"dtype\": \"category\",\n        \"num_unique_values\": 3,\n        \"samples\": [\n          \" Doskona\\u0142a                 \",\n          \" Dobra                     \",\n          \" Przeci\\u0119tna                \"\n        ],\n        \"semantic_type\": \"\",\n        \"description\": \"\"\n      }\n    },\n    {\n      \"column\": \"\\u015arednica (cm)\",\n      \"properties\": {\n        \"dtype\": \"number\",\n        \"std\": 0.7116819711571843,\n        \"min\": 4.5,\n        \"max\": 6.5,\n        \"num_unique_values\": 5,\n        \"samples\": [\n          6.0,\n          5.5,\n          4.5\n        ],\n        \"semantic_type\": \"\",\n        \"description\": \"\"\n      }\n    },\n    {\n      \"column\": \"D\\u0142ugo\\u015b\\u0107 (cm)\",\n      \"properties\": {\n        \"dtype\": \"number\",\n        \"std\": 2.142008113374918,\n        \"min\": 25.0,\n        \"max\": 32.0,\n        \"num_unique_values\": 8,\n        \"samples\": [\n          25.0,\n          27.0,\n          30.0\n        ],\n        \"semantic_type\": \"\",\n        \"description\": \"\"\n      }\n    },\n    {\n      \"column\": \"Cena (EUR)\",\n      \"properties\": {\n        \"dtype\": \"number\",\n        \"std\": 0.286402366941116,\n        \"min\": 2.2,\n        \"max\": 3.2,\n        \"num_unique_values\": 9,\n        \"samples\": [\n          2.9,\n          3.0,\n          3.2\n        ],\n        \"semantic_type\": \"\",\n        \"description\": \"\"\n      }\n    },\n    {\n      \"column\": \"Pora dnia\",\n      \"properties\": {\n        \"dtype\": \"category\",\n        \"num_unique_values\": 4,\n        \"samples\": [\n          \" Po\\u0142udnie   \",\n          \" Wiecz\\u00f3r    \",\n          \" Rano       \"\n        ],\n        \"semantic_type\": \"\",\n        \"description\": \"\"\n      }\n    },\n    {\n      \"column\": \" Pogoda     \",\n      \"properties\": {\n        \"dtype\": \"category\",\n        \"num_unique_values\": 3,\n        \"samples\": [\n          \" S\\u0142onecznie \",\n          \" Deszcz     \",\n          \" Pochmurno  \"\n        ],\n        \"semantic_type\": \"\",\n        \"description\": \"\"\n      }\n    }\n  ]\n}"
            }
          },
          "metadata": {},
          "execution_count": 31
        }
      ]
    },
    {
      "cell_type": "markdown",
      "source": [
        "# **Czyszczenie danych**"
      ],
      "metadata": {
        "id": "vKk3qlacHUsD"
      },
      "id": "vKk3qlacHUsD"
    },
    {
      "cell_type": "markdown",
      "source": [
        "Tworzymy nową tabelkę bez zmiennej zależnej."
      ],
      "metadata": {
        "id": "ONY_Gd_FQJ07"
      },
      "id": "ONY_Gd_FQJ07"
    },
    {
      "cell_type": "code",
      "source": [
        "X=data.drop(['Ocena klienta (kategoria)'], axis=1)\n",
        "X.head()"
      ],
      "metadata": {
        "colab": {
          "base_uri": "https://localhost:8080/",
          "height": 206
        },
        "id": "pz1OeFUlUdoa",
        "outputId": "7ae79c46-7bcb-4df2-a7bf-6df7543a9f68"
      },
      "id": "pz1OeFUlUdoa",
      "execution_count": null,
      "outputs": [
        {
          "output_type": "execute_result",
          "data": {
            "text/plain": [
              "      Miejsce zakupu             Data zakupu  Ilość bagietek  Średnica (cm)  \\\n",
              "0     Boulangerie du Coin      2024-05-02                3.0            5.0   \n",
              "1     Le Pain Quotidien        2024-05-01                2.0            6.0   \n",
              "2   La Boulangerie de Paris      2024-04-30              1.0            4.5   \n",
              "3     Paul                     2024-04-29                3.0            6.5   \n",
              "4     Boulangerie de la Rue    2024-04-28                4.0            5.5   \n",
              "\n",
              "   Długość (cm)  Cena (EUR)     Pora dnia   Pogoda       \n",
              "0          30.0         2.5   Rano          Słonecznie   \n",
              "1          25.0         3.0   Południe      Deszcz       \n",
              "2          28.0         2.2   Popołudnie    Pochmurno    \n",
              "3          32.0         2.8   Wieczór       Słonecznie   \n",
              "4          29.0         2.6   Rano          Pochmurno    "
            ],
            "text/html": [
              "\n",
              "  <div id=\"df-19d75a16-f2eb-4259-997e-a707364cd8f8\" class=\"colab-df-container\">\n",
              "    <div>\n",
              "<style scoped>\n",
              "    .dataframe tbody tr th:only-of-type {\n",
              "        vertical-align: middle;\n",
              "    }\n",
              "\n",
              "    .dataframe tbody tr th {\n",
              "        vertical-align: top;\n",
              "    }\n",
              "\n",
              "    .dataframe thead th {\n",
              "        text-align: right;\n",
              "    }\n",
              "</style>\n",
              "<table border=\"1\" class=\"dataframe\">\n",
              "  <thead>\n",
              "    <tr style=\"text-align: right;\">\n",
              "      <th></th>\n",
              "      <th>Miejsce zakupu</th>\n",
              "      <th>Data zakupu</th>\n",
              "      <th>Ilość bagietek</th>\n",
              "      <th>Średnica (cm)</th>\n",
              "      <th>Długość (cm)</th>\n",
              "      <th>Cena (EUR)</th>\n",
              "      <th>Pora dnia</th>\n",
              "      <th>Pogoda</th>\n",
              "    </tr>\n",
              "  </thead>\n",
              "  <tbody>\n",
              "    <tr>\n",
              "      <th>0</th>\n",
              "      <td>Boulangerie du Coin</td>\n",
              "      <td>2024-05-02</td>\n",
              "      <td>3.0</td>\n",
              "      <td>5.0</td>\n",
              "      <td>30.0</td>\n",
              "      <td>2.5</td>\n",
              "      <td>Rano</td>\n",
              "      <td>Słonecznie</td>\n",
              "    </tr>\n",
              "    <tr>\n",
              "      <th>1</th>\n",
              "      <td>Le Pain Quotidien</td>\n",
              "      <td>2024-05-01</td>\n",
              "      <td>2.0</td>\n",
              "      <td>6.0</td>\n",
              "      <td>25.0</td>\n",
              "      <td>3.0</td>\n",
              "      <td>Południe</td>\n",
              "      <td>Deszcz</td>\n",
              "    </tr>\n",
              "    <tr>\n",
              "      <th>2</th>\n",
              "      <td>La Boulangerie de Paris</td>\n",
              "      <td>2024-04-30</td>\n",
              "      <td>1.0</td>\n",
              "      <td>4.5</td>\n",
              "      <td>28.0</td>\n",
              "      <td>2.2</td>\n",
              "      <td>Popołudnie</td>\n",
              "      <td>Pochmurno</td>\n",
              "    </tr>\n",
              "    <tr>\n",
              "      <th>3</th>\n",
              "      <td>Paul</td>\n",
              "      <td>2024-04-29</td>\n",
              "      <td>3.0</td>\n",
              "      <td>6.5</td>\n",
              "      <td>32.0</td>\n",
              "      <td>2.8</td>\n",
              "      <td>Wieczór</td>\n",
              "      <td>Słonecznie</td>\n",
              "    </tr>\n",
              "    <tr>\n",
              "      <th>4</th>\n",
              "      <td>Boulangerie de la Rue</td>\n",
              "      <td>2024-04-28</td>\n",
              "      <td>4.0</td>\n",
              "      <td>5.5</td>\n",
              "      <td>29.0</td>\n",
              "      <td>2.6</td>\n",
              "      <td>Rano</td>\n",
              "      <td>Pochmurno</td>\n",
              "    </tr>\n",
              "  </tbody>\n",
              "</table>\n",
              "</div>\n",
              "    <div class=\"colab-df-buttons\">\n",
              "\n",
              "  <div class=\"colab-df-container\">\n",
              "    <button class=\"colab-df-convert\" onclick=\"convertToInteractive('df-19d75a16-f2eb-4259-997e-a707364cd8f8')\"\n",
              "            title=\"Convert this dataframe to an interactive table.\"\n",
              "            style=\"display:none;\">\n",
              "\n",
              "  <svg xmlns=\"http://www.w3.org/2000/svg\" height=\"24px\" viewBox=\"0 -960 960 960\">\n",
              "    <path d=\"M120-120v-720h720v720H120Zm60-500h600v-160H180v160Zm220 220h160v-160H400v160Zm0 220h160v-160H400v160ZM180-400h160v-160H180v160Zm440 0h160v-160H620v160ZM180-180h160v-160H180v160Zm440 0h160v-160H620v160Z\"/>\n",
              "  </svg>\n",
              "    </button>\n",
              "\n",
              "  <style>\n",
              "    .colab-df-container {\n",
              "      display:flex;\n",
              "      gap: 12px;\n",
              "    }\n",
              "\n",
              "    .colab-df-convert {\n",
              "      background-color: #E8F0FE;\n",
              "      border: none;\n",
              "      border-radius: 50%;\n",
              "      cursor: pointer;\n",
              "      display: none;\n",
              "      fill: #1967D2;\n",
              "      height: 32px;\n",
              "      padding: 0 0 0 0;\n",
              "      width: 32px;\n",
              "    }\n",
              "\n",
              "    .colab-df-convert:hover {\n",
              "      background-color: #E2EBFA;\n",
              "      box-shadow: 0px 1px 2px rgba(60, 64, 67, 0.3), 0px 1px 3px 1px rgba(60, 64, 67, 0.15);\n",
              "      fill: #174EA6;\n",
              "    }\n",
              "\n",
              "    .colab-df-buttons div {\n",
              "      margin-bottom: 4px;\n",
              "    }\n",
              "\n",
              "    [theme=dark] .colab-df-convert {\n",
              "      background-color: #3B4455;\n",
              "      fill: #D2E3FC;\n",
              "    }\n",
              "\n",
              "    [theme=dark] .colab-df-convert:hover {\n",
              "      background-color: #434B5C;\n",
              "      box-shadow: 0px 1px 3px 1px rgba(0, 0, 0, 0.15);\n",
              "      filter: drop-shadow(0px 1px 2px rgba(0, 0, 0, 0.3));\n",
              "      fill: #FFFFFF;\n",
              "    }\n",
              "  </style>\n",
              "\n",
              "    <script>\n",
              "      const buttonEl =\n",
              "        document.querySelector('#df-19d75a16-f2eb-4259-997e-a707364cd8f8 button.colab-df-convert');\n",
              "      buttonEl.style.display =\n",
              "        google.colab.kernel.accessAllowed ? 'block' : 'none';\n",
              "\n",
              "      async function convertToInteractive(key) {\n",
              "        const element = document.querySelector('#df-19d75a16-f2eb-4259-997e-a707364cd8f8');\n",
              "        const dataTable =\n",
              "          await google.colab.kernel.invokeFunction('convertToInteractive',\n",
              "                                                    [key], {});\n",
              "        if (!dataTable) return;\n",
              "\n",
              "        const docLinkHtml = 'Like what you see? Visit the ' +\n",
              "          '<a target=\"_blank\" href=https://colab.research.google.com/notebooks/data_table.ipynb>data table notebook</a>'\n",
              "          + ' to learn more about interactive tables.';\n",
              "        element.innerHTML = '';\n",
              "        dataTable['output_type'] = 'display_data';\n",
              "        await google.colab.output.renderOutput(dataTable, element);\n",
              "        const docLink = document.createElement('div');\n",
              "        docLink.innerHTML = docLinkHtml;\n",
              "        element.appendChild(docLink);\n",
              "      }\n",
              "    </script>\n",
              "  </div>\n",
              "\n",
              "\n",
              "<div id=\"df-06f43da5-4126-4b44-b970-436753f65b30\">\n",
              "  <button class=\"colab-df-quickchart\" onclick=\"quickchart('df-06f43da5-4126-4b44-b970-436753f65b30')\"\n",
              "            title=\"Suggest charts\"\n",
              "            style=\"display:none;\">\n",
              "\n",
              "<svg xmlns=\"http://www.w3.org/2000/svg\" height=\"24px\"viewBox=\"0 0 24 24\"\n",
              "     width=\"24px\">\n",
              "    <g>\n",
              "        <path d=\"M19 3H5c-1.1 0-2 .9-2 2v14c0 1.1.9 2 2 2h14c1.1 0 2-.9 2-2V5c0-1.1-.9-2-2-2zM9 17H7v-7h2v7zm4 0h-2V7h2v10zm4 0h-2v-4h2v4z\"/>\n",
              "    </g>\n",
              "</svg>\n",
              "  </button>\n",
              "\n",
              "<style>\n",
              "  .colab-df-quickchart {\n",
              "      --bg-color: #E8F0FE;\n",
              "      --fill-color: #1967D2;\n",
              "      --hover-bg-color: #E2EBFA;\n",
              "      --hover-fill-color: #174EA6;\n",
              "      --disabled-fill-color: #AAA;\n",
              "      --disabled-bg-color: #DDD;\n",
              "  }\n",
              "\n",
              "  [theme=dark] .colab-df-quickchart {\n",
              "      --bg-color: #3B4455;\n",
              "      --fill-color: #D2E3FC;\n",
              "      --hover-bg-color: #434B5C;\n",
              "      --hover-fill-color: #FFFFFF;\n",
              "      --disabled-bg-color: #3B4455;\n",
              "      --disabled-fill-color: #666;\n",
              "  }\n",
              "\n",
              "  .colab-df-quickchart {\n",
              "    background-color: var(--bg-color);\n",
              "    border: none;\n",
              "    border-radius: 50%;\n",
              "    cursor: pointer;\n",
              "    display: none;\n",
              "    fill: var(--fill-color);\n",
              "    height: 32px;\n",
              "    padding: 0;\n",
              "    width: 32px;\n",
              "  }\n",
              "\n",
              "  .colab-df-quickchart:hover {\n",
              "    background-color: var(--hover-bg-color);\n",
              "    box-shadow: 0 1px 2px rgba(60, 64, 67, 0.3), 0 1px 3px 1px rgba(60, 64, 67, 0.15);\n",
              "    fill: var(--button-hover-fill-color);\n",
              "  }\n",
              "\n",
              "  .colab-df-quickchart-complete:disabled,\n",
              "  .colab-df-quickchart-complete:disabled:hover {\n",
              "    background-color: var(--disabled-bg-color);\n",
              "    fill: var(--disabled-fill-color);\n",
              "    box-shadow: none;\n",
              "  }\n",
              "\n",
              "  .colab-df-spinner {\n",
              "    border: 2px solid var(--fill-color);\n",
              "    border-color: transparent;\n",
              "    border-bottom-color: var(--fill-color);\n",
              "    animation:\n",
              "      spin 1s steps(1) infinite;\n",
              "  }\n",
              "\n",
              "  @keyframes spin {\n",
              "    0% {\n",
              "      border-color: transparent;\n",
              "      border-bottom-color: var(--fill-color);\n",
              "      border-left-color: var(--fill-color);\n",
              "    }\n",
              "    20% {\n",
              "      border-color: transparent;\n",
              "      border-left-color: var(--fill-color);\n",
              "      border-top-color: var(--fill-color);\n",
              "    }\n",
              "    30% {\n",
              "      border-color: transparent;\n",
              "      border-left-color: var(--fill-color);\n",
              "      border-top-color: var(--fill-color);\n",
              "      border-right-color: var(--fill-color);\n",
              "    }\n",
              "    40% {\n",
              "      border-color: transparent;\n",
              "      border-right-color: var(--fill-color);\n",
              "      border-top-color: var(--fill-color);\n",
              "    }\n",
              "    60% {\n",
              "      border-color: transparent;\n",
              "      border-right-color: var(--fill-color);\n",
              "    }\n",
              "    80% {\n",
              "      border-color: transparent;\n",
              "      border-right-color: var(--fill-color);\n",
              "      border-bottom-color: var(--fill-color);\n",
              "    }\n",
              "    90% {\n",
              "      border-color: transparent;\n",
              "      border-bottom-color: var(--fill-color);\n",
              "    }\n",
              "  }\n",
              "</style>\n",
              "\n",
              "  <script>\n",
              "    async function quickchart(key) {\n",
              "      const quickchartButtonEl =\n",
              "        document.querySelector('#' + key + ' button');\n",
              "      quickchartButtonEl.disabled = true;  // To prevent multiple clicks.\n",
              "      quickchartButtonEl.classList.add('colab-df-spinner');\n",
              "      try {\n",
              "        const charts = await google.colab.kernel.invokeFunction(\n",
              "            'suggestCharts', [key], {});\n",
              "      } catch (error) {\n",
              "        console.error('Error during call to suggestCharts:', error);\n",
              "      }\n",
              "      quickchartButtonEl.classList.remove('colab-df-spinner');\n",
              "      quickchartButtonEl.classList.add('colab-df-quickchart-complete');\n",
              "    }\n",
              "    (() => {\n",
              "      let quickchartButtonEl =\n",
              "        document.querySelector('#df-06f43da5-4126-4b44-b970-436753f65b30 button');\n",
              "      quickchartButtonEl.style.display =\n",
              "        google.colab.kernel.accessAllowed ? 'block' : 'none';\n",
              "    })();\n",
              "  </script>\n",
              "</div>\n",
              "    </div>\n",
              "  </div>\n"
            ],
            "application/vnd.google.colaboratory.intrinsic+json": {
              "type": "dataframe",
              "variable_name": "X",
              "summary": "{\n  \"name\": \"X\",\n  \"rows\": 76,\n  \"fields\": [\n    {\n      \"column\": \" Miejsce zakupu        \",\n      \"properties\": {\n        \"dtype\": \"category\",\n        \"num_unique_values\": 10,\n        \"samples\": [\n          \" Le Fournil de Pierre  \",\n          \" Le Pain Quotidien     \",\n          \" Maison Kayser         \"\n        ],\n        \"semantic_type\": \"\",\n        \"description\": \"\"\n      }\n    },\n    {\n      \"column\": \"Data zakupu\",\n      \"properties\": {\n        \"dtype\": \"object\",\n        \"num_unique_values\": 10,\n        \"samples\": [\n          \" 2024-04-24   \",\n          \" 2024-05-01   \",\n          \" 2024-04-27   \"\n        ],\n        \"semantic_type\": \"\",\n        \"description\": \"\"\n      }\n    },\n    {\n      \"column\": \"Ilo\\u015b\\u0107 bagietek\",\n      \"properties\": {\n        \"dtype\": \"number\",\n        \"std\": 1.026456552228614,\n        \"min\": 1.0,\n        \"max\": 4.0,\n        \"num_unique_values\": 4,\n        \"samples\": [\n          2.0,\n          4.0,\n          3.0\n        ],\n        \"semantic_type\": \"\",\n        \"description\": \"\"\n      }\n    },\n    {\n      \"column\": \"\\u015arednica (cm)\",\n      \"properties\": {\n        \"dtype\": \"number\",\n        \"std\": 0.7116819711571843,\n        \"min\": 4.5,\n        \"max\": 6.5,\n        \"num_unique_values\": 5,\n        \"samples\": [\n          6.0,\n          5.5,\n          4.5\n        ],\n        \"semantic_type\": \"\",\n        \"description\": \"\"\n      }\n    },\n    {\n      \"column\": \"D\\u0142ugo\\u015b\\u0107 (cm)\",\n      \"properties\": {\n        \"dtype\": \"number\",\n        \"std\": 2.142008113374918,\n        \"min\": 25.0,\n        \"max\": 32.0,\n        \"num_unique_values\": 8,\n        \"samples\": [\n          25.0,\n          27.0,\n          30.0\n        ],\n        \"semantic_type\": \"\",\n        \"description\": \"\"\n      }\n    },\n    {\n      \"column\": \"Cena (EUR)\",\n      \"properties\": {\n        \"dtype\": \"number\",\n        \"std\": 0.286402366941116,\n        \"min\": 2.2,\n        \"max\": 3.2,\n        \"num_unique_values\": 9,\n        \"samples\": [\n          2.9,\n          3.0,\n          3.2\n        ],\n        \"semantic_type\": \"\",\n        \"description\": \"\"\n      }\n    },\n    {\n      \"column\": \"Pora dnia\",\n      \"properties\": {\n        \"dtype\": \"category\",\n        \"num_unique_values\": 4,\n        \"samples\": [\n          \" Po\\u0142udnie   \",\n          \" Wiecz\\u00f3r    \",\n          \" Rano       \"\n        ],\n        \"semantic_type\": \"\",\n        \"description\": \"\"\n      }\n    },\n    {\n      \"column\": \" Pogoda     \",\n      \"properties\": {\n        \"dtype\": \"category\",\n        \"num_unique_values\": 3,\n        \"samples\": [\n          \" S\\u0142onecznie \",\n          \" Deszcz     \",\n          \" Pochmurno  \"\n        ],\n        \"semantic_type\": \"\",\n        \"description\": \"\"\n      }\n    }\n  ]\n}"
            }
          },
          "metadata": {},
          "execution_count": 32
        }
      ]
    },
    {
      "cell_type": "markdown",
      "source": [
        "Liczymy ilość pustych wartości dla wszystkich kolumn."
      ],
      "metadata": {
        "id": "hkMnMtVdQaB7"
      },
      "id": "hkMnMtVdQaB7"
    },
    {
      "cell_type": "code",
      "source": [
        "X.isnull().sum()"
      ],
      "metadata": {
        "colab": {
          "base_uri": "https://localhost:8080/"
        },
        "id": "ICcrHuKKHXl_",
        "outputId": "6de7c214-1881-4e9a-a552-dc42fd741263"
      },
      "id": "ICcrHuKKHXl_",
      "execution_count": null,
      "outputs": [
        {
          "output_type": "execute_result",
          "data": {
            "text/plain": [
              " Miejsce zakupu             0\n",
              "Data zakupu                 0\n",
              "Ilość bagietek             10\n",
              "Średnica (cm)               0\n",
              "Długość (cm)                6\n",
              "Cena (EUR)                  0\n",
              "Pora dnia                   0\n",
              " Pogoda                     0\n",
              "dtype: int64"
            ]
          },
          "metadata": {},
          "execution_count": 33
        }
      ]
    },
    {
      "cell_type": "markdown",
      "source": [
        "Zamieniamy wartości puste dla ilości bagietek na medianę."
      ],
      "metadata": {
        "id": "8YjZFY8CQmh3"
      },
      "id": "8YjZFY8CQmh3"
    },
    {
      "cell_type": "code",
      "source": [
        "X[\"Ilość bagietek\"].fillna(X[\"Ilość bagietek\"].median(), inplace=True)\n",
        "X.isnull().sum()"
      ],
      "metadata": {
        "colab": {
          "base_uri": "https://localhost:8080/"
        },
        "id": "8GYYAQ2EImM5",
        "outputId": "c6bb7cc3-7f03-4e15-98ca-382543ac4e3c"
      },
      "id": "8GYYAQ2EImM5",
      "execution_count": null,
      "outputs": [
        {
          "output_type": "execute_result",
          "data": {
            "text/plain": [
              " Miejsce zakupu            0\n",
              "Data zakupu                0\n",
              "Ilość bagietek             0\n",
              "Średnica (cm)              0\n",
              "Długość (cm)               6\n",
              "Cena (EUR)                 0\n",
              "Pora dnia                  0\n",
              " Pogoda                    0\n",
              "dtype: int64"
            ]
          },
          "metadata": {},
          "execution_count": 34
        }
      ]
    },
    {
      "cell_type": "markdown",
      "source": [
        "Zamieniamy wartości puste dla długości na średnią."
      ],
      "metadata": {
        "id": "Hw436hXxRPOH"
      },
      "id": "Hw436hXxRPOH"
    },
    {
      "cell_type": "code",
      "source": [
        "X[\"Długość (cm)\"].fillna(X[\"Długość (cm)\"].mean(), inplace=True)\n",
        "X.isnull().sum()"
      ],
      "metadata": {
        "colab": {
          "base_uri": "https://localhost:8080/"
        },
        "id": "sjnUaGe-JlxQ",
        "outputId": "049e9044-a2eb-47e4-ed35-060024973367"
      },
      "id": "sjnUaGe-JlxQ",
      "execution_count": null,
      "outputs": [
        {
          "output_type": "execute_result",
          "data": {
            "text/plain": [
              " Miejsce zakupu            0\n",
              "Data zakupu                0\n",
              "Ilość bagietek             0\n",
              "Średnica (cm)              0\n",
              "Długość (cm)               0\n",
              "Cena (EUR)                 0\n",
              "Pora dnia                  0\n",
              " Pogoda                    0\n",
              "dtype: int64"
            ]
          },
          "metadata": {},
          "execution_count": 35
        }
      ]
    },
    {
      "cell_type": "markdown",
      "source": [
        "# **Outliery**"
      ],
      "metadata": {
        "id": "K0MLEU5lKC-h"
      },
      "id": "K0MLEU5lKC-h"
    },
    {
      "cell_type": "markdown",
      "source": [
        "Wykonujemy detekcję outlierów - wartości poniżej Q1-1.5(Q3-Q1) lub powyżej Q3+1.5(Q3-Q1)"
      ],
      "metadata": {
        "id": "4LFy2sIHRdjM"
      },
      "id": "4LFy2sIHRdjM"
    },
    {
      "cell_type": "code",
      "source": [
        "fig_dims = (10, 8)\n",
        "fig, ax = plt.subplots(figsize=fig_dims)\n",
        "\n",
        "sns.boxplot(ax=ax, data=X.loc[:,X.columns != 'class_type'], orient='h', palette='rainbow')"
      ],
      "metadata": {
        "colab": {
          "base_uri": "https://localhost:8080/",
          "height": 213
        },
        "id": "R0MJkFqiKCt6",
        "outputId": "17119b5a-3bb6-42cd-8c79-da72c09a929f"
      },
      "id": "R0MJkFqiKCt6",
      "execution_count": null,
      "outputs": [
        {
          "output_type": "error",
          "ename": "NameError",
          "evalue": "name 'plt' is not defined",
          "traceback": [
            "\u001b[0;31m---------------------------------------------------------------------------\u001b[0m",
            "\u001b[0;31mNameError\u001b[0m                                 Traceback (most recent call last)",
            "\u001b[0;32m<ipython-input-1-01af8915abd2>\u001b[0m in \u001b[0;36m<cell line: 2>\u001b[0;34m()\u001b[0m\n\u001b[1;32m      1\u001b[0m \u001b[0mfig_dims\u001b[0m \u001b[0;34m=\u001b[0m \u001b[0;34m(\u001b[0m\u001b[0;36m10\u001b[0m\u001b[0;34m,\u001b[0m \u001b[0;36m8\u001b[0m\u001b[0;34m)\u001b[0m\u001b[0;34m\u001b[0m\u001b[0;34m\u001b[0m\u001b[0m\n\u001b[0;32m----> 2\u001b[0;31m \u001b[0mfig\u001b[0m\u001b[0;34m,\u001b[0m \u001b[0max\u001b[0m \u001b[0;34m=\u001b[0m \u001b[0mplt\u001b[0m\u001b[0;34m.\u001b[0m\u001b[0msubplots\u001b[0m\u001b[0;34m(\u001b[0m\u001b[0mfigsize\u001b[0m\u001b[0;34m=\u001b[0m\u001b[0mfig_dims\u001b[0m\u001b[0;34m)\u001b[0m\u001b[0;34m\u001b[0m\u001b[0;34m\u001b[0m\u001b[0m\n\u001b[0m\u001b[1;32m      3\u001b[0m \u001b[0;34m\u001b[0m\u001b[0m\n\u001b[1;32m      4\u001b[0m \u001b[0msns\u001b[0m\u001b[0;34m.\u001b[0m\u001b[0mboxplot\u001b[0m\u001b[0;34m(\u001b[0m\u001b[0max\u001b[0m\u001b[0;34m=\u001b[0m\u001b[0max\u001b[0m\u001b[0;34m,\u001b[0m \u001b[0mdata\u001b[0m\u001b[0;34m=\u001b[0m\u001b[0mX\u001b[0m\u001b[0;34m.\u001b[0m\u001b[0mloc\u001b[0m\u001b[0;34m[\u001b[0m\u001b[0;34m:\u001b[0m\u001b[0;34m,\u001b[0m\u001b[0mX\u001b[0m\u001b[0;34m.\u001b[0m\u001b[0mcolumns\u001b[0m \u001b[0;34m!=\u001b[0m \u001b[0;34m'class_type'\u001b[0m\u001b[0;34m]\u001b[0m\u001b[0;34m,\u001b[0m \u001b[0morient\u001b[0m\u001b[0;34m=\u001b[0m\u001b[0;34m'h'\u001b[0m\u001b[0;34m,\u001b[0m \u001b[0mpalette\u001b[0m\u001b[0;34m=\u001b[0m\u001b[0;34m'rainbow'\u001b[0m\u001b[0;34m)\u001b[0m\u001b[0;34m\u001b[0m\u001b[0;34m\u001b[0m\u001b[0m\n",
            "\u001b[0;31mNameError\u001b[0m: name 'plt' is not defined"
          ]
        }
      ]
    },
    {
      "cell_type": "code",
      "source": [
        "def find_outliers_tukey(x):\n",
        "    q1 = np.percentile(x, 25)\n",
        "    q3 = np.percentile(x, 75)\n",
        "    iqr = q3-q1\n",
        "    floor = q1 - 1.5*iqr\n",
        "    ceiling = q3 + 1.5*iqr\n",
        "    outlier_indices = list(x.index[(x < floor)|(x > ceiling)])\n",
        "    outlier_values = list(x[outlier_indices])\n",
        "\n",
        "    return outlier_indices, outlier_values"
      ],
      "metadata": {
        "id": "jsYNHh-lKrW2"
      },
      "id": "jsYNHh-lKrW2",
      "execution_count": null,
      "outputs": []
    },
    {
      "cell_type": "code",
      "source": [
        "tukey_indices, tukey_values = find_outliers_tukey(X['Ilość bagietek'])\n",
        "print(tukey_indices)\n",
        "tukey_indices, tukey_values = find_outliers_tukey(X['Średnica (cm)'])\n",
        "print(tukey_indices)\n",
        "tukey_indices, tukey_values = find_outliers_tukey(X['Długość (cm)'])\n",
        "print(tukey_indices)\n",
        "tukey_indices, tukey_values = find_outliers_tukey(X['Cena (EUR)'])\n",
        "print(tukey_indices)"
      ],
      "metadata": {
        "colab": {
          "base_uri": "https://localhost:8080/"
        },
        "id": "_34wrkbMK81c",
        "outputId": "6c861494-9414-4bf3-8fc4-ad76f2ec3759"
      },
      "id": "_34wrkbMK81c",
      "execution_count": null,
      "outputs": [
        {
          "output_type": "stream",
          "name": "stdout",
          "text": [
            "[]\n",
            "[]\n",
            "[]\n",
            "[]\n"
          ]
        }
      ]
    },
    {
      "cell_type": "markdown",
      "source": [
        "Z detekcji wyszło, że nie ma outlierów w zbiorze danych."
      ],
      "metadata": {
        "id": "ERXC12FHL-vn"
      },
      "id": "ERXC12FHL-vn"
    },
    {
      "cell_type": "markdown",
      "source": [
        "# Rozkład zmiennych\n",
        "\n"
      ],
      "metadata": {
        "id": "p0hfejEghhn-"
      },
      "id": "p0hfejEghhn-"
    },
    {
      "cell_type": "markdown",
      "source": [
        "Tworzymy histogramy rozkładu wartości dla danych cech, aby zaprezentować jak rozkłada się dana cecha."
      ],
      "metadata": {
        "id": "GYYmogqiSLCi"
      },
      "id": "GYYmogqiSLCi"
    },
    {
      "cell_type": "code",
      "source": [
        "%matplotlib inline\n",
        "import matplotlib.pyplot as plt\n",
        "\n",
        "def plot_histogram(x):\n",
        "    plt.hist(x, color='gray', alpha=0.5)\n",
        "    plt.title(\"Histogram of '{var_name}'\".format(var_name=x.name))\n",
        "    plt.xlabel(\"Value\")\n",
        "    plt.ylabel(\"Frequency\")\n",
        "    plt.show()"
      ],
      "metadata": {
        "id": "dSNuMNilep9w"
      },
      "id": "dSNuMNilep9w",
      "execution_count": null,
      "outputs": []
    },
    {
      "cell_type": "code",
      "source": [
        "plot_histogram(X['Ilość bagietek'])"
      ],
      "metadata": {
        "colab": {
          "base_uri": "https://localhost:8080/",
          "height": 161
        },
        "id": "R-1X-U9Oh8SV",
        "outputId": "9414c4a7-59ed-4834-c721-87887f3135d9"
      },
      "id": "R-1X-U9Oh8SV",
      "execution_count": null,
      "outputs": [
        {
          "output_type": "error",
          "ename": "NameError",
          "evalue": "name 'plot_histogram' is not defined",
          "traceback": [
            "\u001b[0;31m---------------------------------------------------------------------------\u001b[0m",
            "\u001b[0;31mNameError\u001b[0m                                 Traceback (most recent call last)",
            "\u001b[0;32m<ipython-input-2-61a6f27e2673>\u001b[0m in \u001b[0;36m<cell line: 1>\u001b[0;34m()\u001b[0m\n\u001b[0;32m----> 1\u001b[0;31m \u001b[0mplot_histogram\u001b[0m\u001b[0;34m(\u001b[0m\u001b[0mX\u001b[0m\u001b[0;34m[\u001b[0m\u001b[0;34m'Ilość bagietek'\u001b[0m\u001b[0;34m]\u001b[0m\u001b[0;34m)\u001b[0m\u001b[0;34m\u001b[0m\u001b[0;34m\u001b[0m\u001b[0m\n\u001b[0m",
            "\u001b[0;31mNameError\u001b[0m: name 'plot_histogram' is not defined"
          ]
        }
      ]
    },
    {
      "cell_type": "code",
      "source": [
        "plot_histogram(X['Średnica (cm)'])"
      ],
      "metadata": {
        "colab": {
          "base_uri": "https://localhost:8080/",
          "height": 475
        },
        "id": "kpQ6zekMk6ek",
        "outputId": "2ca42caa-2839-4444-b8f6-10fac9d0ae99"
      },
      "id": "kpQ6zekMk6ek",
      "execution_count": null,
      "outputs": [
        {
          "output_type": "display_data",
          "data": {
            "text/plain": [
              "<Figure size 640x480 with 1 Axes>"
            ],
            "image/png": "[encoded data removed]"
          },
          "metadata": {}
        }
      ]
    },
    {
      "cell_type": "code",
      "source": [
        "plot_histogram(X['Długość (cm)'])"
      ],
      "metadata": {
        "colab": {
          "base_uri": "https://localhost:8080/",
          "height": 472
        },
        "id": "V06MkOTklAPe",
        "outputId": "f6485967-403b-4936-915b-51b3ad3016fa"
      },
      "id": "V06MkOTklAPe",
      "execution_count": null,
      "outputs": [
        {
          "output_type": "display_data",
          "data": {
            "text/plain": [
              "<Figure size 640x480 with 1 Axes>"
            ],
            "image/png": "[encoded data removed]"
          },
          "metadata": {}
        }
      ]
    },
    {
      "cell_type": "code",
      "source": [
        "plot_histogram(X['Cena (EUR)'])"
      ],
      "metadata": {
        "colab": {
          "base_uri": "https://localhost:8080/",
          "height": 472
        },
        "id": "0eYf1S5-lZpl",
        "outputId": "85638432-4978-443f-df96-fa0b798f4545"
      },
      "id": "0eYf1S5-lZpl",
      "execution_count": null,
      "outputs": [
        {
          "output_type": "display_data",
          "data": {
            "text/plain": [
              "<Figure size 640x480 with 1 Axes>"
            ],
            "image/png": "[encoded data removed]"
          },
          "metadata": {}
        }
      ]
    },
    {
      "cell_type": "markdown",
      "source": [
        "# Interakcje między cechami"
      ],
      "metadata": {
        "id": "8_d2oht2kSIM"
      },
      "id": "8_d2oht2kSIM"
    },
    {
      "cell_type": "markdown",
      "source": [
        "Sprawdzamy ile kategorii znajduje się w poszczególnych kolumnach i jakie interakcje następują."
      ],
      "metadata": {
        "id": "YelxU9-WTIBM"
      },
      "id": "YelxU9-WTIBM"
    },
    {
      "cell_type": "code",
      "source": [
        "for col_name in X.columns:\n",
        "    if X[col_name].dtypes == 'object':\n",
        "        unique_cat = len(X[col_name].unique())\n",
        "        print(\"Feature '{col_name}' has {unique_cat} unique categories\".format(col_name=col_name, unique_cat=unique_cat))"
      ],
      "metadata": {
        "colab": {
          "base_uri": "https://localhost:8080/"
        },
        "id": "KDIcINpIzvvt",
        "outputId": "597fddc5-d902-4ae7-fa72-02198885f049"
      },
      "id": "KDIcINpIzvvt",
      "execution_count": null,
      "outputs": [
        {
          "output_type": "stream",
          "name": "stdout",
          "text": [
            "Feature ' Miejsce zakupu        ' has 10 unique categories\n",
            "Feature 'Data zakupu' has 10 unique categories\n",
            "Feature 'Pora dnia' has 4 unique categories\n",
            "Feature ' Pogoda     ' has 3 unique categories\n"
          ]
        }
      ]
    },
    {
      "cell_type": "code",
      "source": [
        "todummy_list = []\n",
        "for col_name in X.columns:\n",
        "  if X[col_name].dtypes == 'object':\n",
        "    todummy_list.append(col_name)\n",
        "\n",
        "todummy_list"
      ],
      "metadata": {
        "colab": {
          "base_uri": "https://localhost:8080/"
        },
        "id": "RicSkTgozFKe",
        "outputId": "fdb8c814-1f5b-4af2-88d6-fe2f3925462c"
      },
      "id": "RicSkTgozFKe",
      "execution_count": null,
      "outputs": [
        {
          "output_type": "execute_result",
          "data": {
            "text/plain": [
              "[' Miejsce zakupu        ', 'Data zakupu', 'Pora dnia', ' Pogoda     ']"
            ]
          },
          "metadata": {},
          "execution_count": 45
        }
      ]
    },
    {
      "cell_type": "code",
      "source": [
        "def dummy_df(df, todummy_list):\n",
        "    for x in todummy_list:\n",
        "        dummies = pd.get_dummies(df[x], prefix=x, dummy_na=False)\n",
        "        del df[x]\n",
        "        df = pd.concat([df, dummies], axis=1)\n",
        "    return df"
      ],
      "metadata": {
        "id": "85A5r1sNy5zJ"
      },
      "id": "85A5r1sNy5zJ",
      "execution_count": null,
      "outputs": []
    },
    {
      "cell_type": "code",
      "source": [
        "X = dummy_df(X, todummy_list)\n",
        "print(X.head(5))"
      ],
      "metadata": {
        "id": "RoHBquQly_F6",
        "colab": {
          "base_uri": "https://localhost:8080/"
        },
        "outputId": "53e3176f-f512-4aeb-d9f0-e40c53edff5c"
      },
      "id": "RoHBquQly_F6",
      "execution_count": null,
      "outputs": [
        {
          "output_type": "stream",
          "name": "stdout",
          "text": [
            "   Ilość bagietek  Średnica (cm)  Długość (cm)  Cena (EUR)  \\\n",
            "0             3.0            5.0          30.0         2.5   \n",
            "1             2.0            6.0          25.0         3.0   \n",
            "2             1.0            4.5          28.0         2.2   \n",
            "3             3.0            6.5          32.0         2.8   \n",
            "4             4.0            5.5          29.0         2.6   \n",
            "\n",
            "    Miejsce zakupu        _ Boulangerie Paulin      \\\n",
            "0                                            False   \n",
            "1                                            False   \n",
            "2                                            False   \n",
            "3                                            False   \n",
            "4                                            False   \n",
            "\n",
            "    Miejsce zakupu        _ Boulangerie de la Rue   \\\n",
            "0                                            False   \n",
            "1                                            False   \n",
            "2                                            False   \n",
            "3                                            False   \n",
            "4                                             True   \n",
            "\n",
            "    Miejsce zakupu        _ Boulangerie du Coin     \\\n",
            "0                                             True   \n",
            "1                                            False   \n",
            "2                                            False   \n",
            "3                                            False   \n",
            "4                                            False   \n",
            "\n",
            "    Miejsce zakupu        _ Eric Kayser             \\\n",
            "0                                            False   \n",
            "1                                            False   \n",
            "2                                            False   \n",
            "3                                            False   \n",
            "4                                            False   \n",
            "\n",
            "    Miejsce zakupu        _ La Boulangerie de Paris   \\\n",
            "0                                              False   \n",
            "1                                              False   \n",
            "2                                               True   \n",
            "3                                              False   \n",
            "4                                              False   \n",
            "\n",
            "    Miejsce zakupu        _ La Parisienne           ...  \\\n",
            "0                                            False  ...   \n",
            "1                                            False  ...   \n",
            "2                                            False  ...   \n",
            "3                                            False  ...   \n",
            "4                                            False  ...   \n",
            "\n",
            "   Data zakupu_ 2024-04-30   Data zakupu_ 2024-05-01     \\\n",
            "0                     False                       False   \n",
            "1                     False                        True   \n",
            "2                      True                       False   \n",
            "3                     False                       False   \n",
            "4                     False                       False   \n",
            "\n",
            "   Data zakupu_ 2024-05-02     Pora dnia_ Popołudnie   Pora dnia_ Południe     \\\n",
            "0                        True                   False                   False   \n",
            "1                       False                   False                    True   \n",
            "2                       False                    True                   False   \n",
            "3                       False                   False                   False   \n",
            "4                       False                   False                   False   \n",
            "\n",
            "   Pora dnia_ Rano         Pora dnia_ Wieczór       Pogoda     _ Deszcz       \\\n",
            "0                    True                   False                      False   \n",
            "1                   False                   False                       True   \n",
            "2                   False                   False                      False   \n",
            "3                   False                    True                      False   \n",
            "4                    True                   False                      False   \n",
            "\n",
            "    Pogoda     _ Pochmurno     Pogoda     _ Słonecznie   \n",
            "0                      False                       True  \n",
            "1                      False                      False  \n",
            "2                       True                      False  \n",
            "3                      False                       True  \n",
            "4                       True                      False  \n",
            "\n",
            "[5 rows x 31 columns]\n"
          ]
        }
      ]
    },
    {
      "cell_type": "code",
      "source": [
        "from itertools import combinations\n",
        "from sklearn.preprocessing import PolynomialFeatures\n",
        "\n",
        "def add_interactions(df):\n",
        "    combos = list(combinations(list(df.columns), 2))\n",
        "    colnames = list(df.columns) + ['_'.join(x) for x in combos]\n",
        "\n",
        "    poly = PolynomialFeatures(interaction_only=True, include_bias=False)\n",
        "    df = poly.fit_transform(df)\n",
        "    df = pd.DataFrame(df)\n",
        "    df.columns = colnames\n",
        "\n",
        "    noint_indicies = [i for i, x in enumerate(list((df == 0).all())) if x]\n",
        "    df = df.drop(df.columns[noint_indicies], axis=1)\n",
        "\n",
        "    return df"
      ],
      "metadata": {
        "id": "ANW_xMu66Do9"
      },
      "id": "ANW_xMu66Do9",
      "execution_count": null,
      "outputs": []
    },
    {
      "cell_type": "code",
      "source": [
        "X = add_interactions(X)\n",
        "print(X.head(5))"
      ],
      "metadata": {
        "colab": {
          "base_uri": "https://localhost:8080/"
        },
        "id": "XrKoZVS_7I58",
        "outputId": "f68dc931-5c25-474b-8383-820adf0aaf26"
      },
      "id": "XrKoZVS_7I58",
      "execution_count": null,
      "outputs": [
        {
          "output_type": "stream",
          "name": "stdout",
          "text": [
            "   Ilość bagietek  Średnica (cm)  Długość (cm)  Cena (EUR)  \\\n",
            "0             3.0            5.0          30.0         2.5   \n",
            "1             2.0            6.0          25.0         3.0   \n",
            "2             1.0            4.5          28.0         2.2   \n",
            "3             3.0            6.5          32.0         2.8   \n",
            "4             4.0            5.5          29.0         2.6   \n",
            "\n",
            "    Miejsce zakupu        _ Boulangerie Paulin      \\\n",
            "0                                              0.0   \n",
            "1                                              0.0   \n",
            "2                                              0.0   \n",
            "3                                              0.0   \n",
            "4                                              0.0   \n",
            "\n",
            "    Miejsce zakupu        _ Boulangerie de la Rue   \\\n",
            "0                                              0.0   \n",
            "1                                              0.0   \n",
            "2                                              0.0   \n",
            "3                                              0.0   \n",
            "4                                              1.0   \n",
            "\n",
            "    Miejsce zakupu        _ Boulangerie du Coin     \\\n",
            "0                                              1.0   \n",
            "1                                              0.0   \n",
            "2                                              0.0   \n",
            "3                                              0.0   \n",
            "4                                              0.0   \n",
            "\n",
            "    Miejsce zakupu        _ Eric Kayser             \\\n",
            "0                                              0.0   \n",
            "1                                              0.0   \n",
            "2                                              0.0   \n",
            "3                                              0.0   \n",
            "4                                              0.0   \n",
            "\n",
            "    Miejsce zakupu        _ La Boulangerie de Paris   \\\n",
            "0                                                0.0   \n",
            "1                                                0.0   \n",
            "2                                                1.0   \n",
            "3                                                0.0   \n",
            "4                                                0.0   \n",
            "\n",
            "    Miejsce zakupu        _ La Parisienne           ...  \\\n",
            "0                                              0.0  ...   \n",
            "1                                              0.0  ...   \n",
            "2                                              0.0  ...   \n",
            "3                                              0.0  ...   \n",
            "4                                              0.0  ...   \n",
            "\n",
            "   Data zakupu_ 2024-05-02   _ Pogoda     _ Słonecznie   \\\n",
            "0                                                1.0      \n",
            "1                                                0.0      \n",
            "2                                                0.0      \n",
            "3                                                0.0      \n",
            "4                                                0.0      \n",
            "\n",
            "   Pora dnia_ Popołudnie _ Pogoda     _ Deszcz       \\\n",
            "0                                               0.0   \n",
            "1                                               0.0   \n",
            "2                                               0.0   \n",
            "3                                               0.0   \n",
            "4                                               0.0   \n",
            "\n",
            "   Pora dnia_ Popołudnie _ Pogoda     _ Pochmurno    \\\n",
            "0                                               0.0   \n",
            "1                                               0.0   \n",
            "2                                               1.0   \n",
            "3                                               0.0   \n",
            "4                                               0.0   \n",
            "\n",
            "   Pora dnia_ Popołudnie _ Pogoda     _ Słonecznie   \\\n",
            "0                                               0.0   \n",
            "1                                               0.0   \n",
            "2                                               0.0   \n",
            "3                                               0.0   \n",
            "4                                               0.0   \n",
            "\n",
            "   Pora dnia_ Południe   _ Pogoda     _ Deszcz       \\\n",
            "0                                               0.0   \n",
            "1                                               1.0   \n",
            "2                                               0.0   \n",
            "3                                               0.0   \n",
            "4                                               0.0   \n",
            "\n",
            "   Pora dnia_ Rano       _ Pogoda     _ Deszcz       \\\n",
            "0                                               0.0   \n",
            "1                                               0.0   \n",
            "2                                               0.0   \n",
            "3                                               0.0   \n",
            "4                                               0.0   \n",
            "\n",
            "   Pora dnia_ Rano       _ Pogoda     _ Pochmurno    \\\n",
            "0                                               0.0   \n",
            "1                                               0.0   \n",
            "2                                               0.0   \n",
            "3                                               0.0   \n",
            "4                                               1.0   \n",
            "\n",
            "   Pora dnia_ Rano       _ Pogoda     _ Słonecznie   \\\n",
            "0                                               1.0   \n",
            "1                                               0.0   \n",
            "2                                               0.0   \n",
            "3                                               0.0   \n",
            "4                                               0.0   \n",
            "\n",
            "   Pora dnia_ Wieczór    _ Pogoda     _ Pochmurno    \\\n",
            "0                                               0.0   \n",
            "1                                               0.0   \n",
            "2                                               0.0   \n",
            "3                                               0.0   \n",
            "4                                               0.0   \n",
            "\n",
            "   Pora dnia_ Wieczór    _ Pogoda     _ Słonecznie   \n",
            "0                                               0.0  \n",
            "1                                               0.0  \n",
            "2                                               0.0  \n",
            "3                                               1.0  \n",
            "4                                               0.0  \n",
            "\n",
            "[5 rows x 204 columns]\n"
          ]
        }
      ]
    },
    {
      "cell_type": "markdown",
      "source": [
        "# PCA"
      ],
      "metadata": {
        "id": "ESyRsPS07z_f"
      },
      "id": "ESyRsPS07z_f"
    },
    {
      "cell_type": "markdown",
      "source": [
        "Wykonujemy analizę głównych komponentów."
      ],
      "metadata": {
        "id": "uVXpmyG1T8be"
      },
      "id": "uVXpmyG1T8be"
    },
    {
      "cell_type": "code",
      "source": [
        "from sklearn.decomposition import PCA\n",
        "from sklearn.preprocessing import StandardScaler\n",
        "scaler = StandardScaler()\n",
        "X = scaler.fit_transform(X)\n",
        "X\n",
        "pca = PCA(n_components=10) #deklaratywna ilosc komponentów\n",
        "X_pca = pd.DataFrame(pca.fit_transform(X))"
      ],
      "metadata": {
        "id": "FeAP35G97zjs"
      },
      "id": "FeAP35G97zjs",
      "execution_count": null,
      "outputs": []
    },
    {
      "cell_type": "code",
      "source": [
        "explained_variance= pca.explained_variance_ratio_\n",
        "explained_variance"
      ],
      "metadata": {
        "id": "Pb8WDb6j08wI",
        "colab": {
          "base_uri": "https://localhost:8080/"
        },
        "outputId": "32cee9b5-c849-4efa-ebff-076f74e3326a"
      },
      "id": "Pb8WDb6j08wI",
      "execution_count": null,
      "outputs": [
        {
          "output_type": "execute_result",
          "data": {
            "text/plain": [
              "array([0.14645926, 0.13122873, 0.12718163, 0.12030307, 0.10816149,\n",
              "       0.09717068, 0.08879766, 0.0871556 , 0.08414926, 0.00477451])"
            ]
          },
          "metadata": {},
          "execution_count": 51
        }
      ]
    },
    {
      "cell_type": "code",
      "source": [
        "pca = PCA(n_components=9) #wybrana ilosc komponentów\n",
        "X_pca = pd.DataFrame(pca.fit_transform(X))"
      ],
      "metadata": {
        "id": "bJoinjzg0_eG"
      },
      "id": "bJoinjzg0_eG",
      "execution_count": null,
      "outputs": []
    },
    {
      "cell_type": "code",
      "source": [
        "print(X_pca.head(5))"
      ],
      "metadata": {
        "id": "QgpwWjiU1Cc6",
        "colab": {
          "base_uri": "https://localhost:8080/"
        },
        "outputId": "133d6ed8-5c4b-4706-8c33-f6b96a710c47"
      },
      "id": "QgpwWjiU1Cc6",
      "execution_count": null,
      "outputs": [
        {
          "output_type": "stream",
          "name": "stdout",
          "text": [
            "           0         1          2         3         4         5         6  \\\n",
            "0  -3.258093 -0.354591  -6.495416 -3.949016 -6.719185  0.428864  6.559480   \n",
            "1  11.007097  0.808439   0.052151  7.670914 -4.268609  4.557620  0.044630   \n",
            "2  -0.864520  2.507223  10.185627 -4.434504 -3.853134 -1.065505 -2.966743   \n",
            "3  -5.010531 -7.260791  -3.776325  5.102226  3.991962  0.426958 -4.230825   \n",
            "4  -3.154510  9.416488  -3.080640 -2.700785  1.971019  5.678999 -5.123296   \n",
            "\n",
            "          7         8  \n",
            "0  1.095837 -2.360588  \n",
            "1 -0.378990 -0.498372  \n",
            "2 -1.340815 -5.768190  \n",
            "3  1.969274 -6.187460  \n",
            "4  5.741127  3.221819  \n"
          ]
        }
      ]
    },
    {
      "cell_type": "code",
      "source": [
        "from sklearn.model_selection import train_test_split\n",
        "\n",
        "X_train, X_test, y_train, y_test = train_test_split(X_pca, y, train_size=0.70, random_state=1)"
      ],
      "metadata": {
        "id": "Bmj2h7Nl1Pgd"
      },
      "id": "Bmj2h7Nl1Pgd",
      "execution_count": null,
      "outputs": []
    },
    {
      "cell_type": "code",
      "source": [
        "print(data.shape)\n",
        "print(X_pca.shape)"
      ],
      "metadata": {
        "id": "-Mc9-NmK1Qee",
        "colab": {
          "base_uri": "https://localhost:8080/"
        },
        "outputId": "f7f682e2-8043-4954-ebbb-6f62025c928c"
      },
      "id": "-Mc9-NmK1Qee",
      "execution_count": null,
      "outputs": [
        {
          "output_type": "stream",
          "name": "stdout",
          "text": [
            "(76, 9)\n",
            "(76, 9)\n"
          ]
        }
      ]
    }
  ],
  "metadata": {
    "kernelspec": {
      "display_name": "Python 3 (ipykernel)",
      "language": "python",
      "name": "python3"
    },
    "language_info": {
      "codemirror_mode": {
        "name": "ipython",
        "version": 3
      },
      "file_extension": ".py",
      "mimetype": "text/x-python",
      "name": "python",
      "nbconvert_exporter": "python",
      "pygments_lexer": "ipython3",
      "version": "3.11.7"
    },
    "colab": {
      "provenance": [],
      "include_colab_link": true
    }
  },
  "nbformat": 4,
  "nbformat_minor": 5
}